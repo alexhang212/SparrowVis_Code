{
 "cells": [
  {
   "cell_type": "markdown",
   "metadata": {},
   "source": [
    "# Supplementary 4: Using grid search to train sex classification model"
   ]
  },
  {
   "cell_type": "markdown",
   "metadata": {},
   "source": [
    "To train a sex classification model using masks obtained from MaskRCNN, I used a grid search method for hyper parameter tuning, which involves defining a set of hyper parameters, then looping through each possible combination to obtain the best possible model. "
   ]
  },
  {
   "cell_type": "code",
   "execution_count": 1,
   "metadata": {},
   "outputs": [],
   "source": [
    "#load packages\n",
    "library(keras)"
   ]
  },
  {
   "cell_type": "markdown",
   "metadata": {},
   "source": [
    "## Model Architecture"
   ]
  },
  {
   "cell_type": "markdown",
   "metadata": {},
   "source": [
    "I wrote a function to specify the model architecture, compile it and train it for 150 epochs. I also adopted an early stopping algorithm so that training stops if validation loss did not decrease for 10 epochs in a row, meaning the model is overfitting."
   ]
  },
  {
   "cell_type": "code",
   "execution_count": null,
   "metadata": {},
   "outputs": [],
   "source": [
    "#Function to train a simple CNN model:\n",
    "\n",
    "TrainSimple <- function(ModelName = 1, CNN,Dense_1,Drop_1,Dense_2,Drop_2){ #hyper parameters as input\n",
    "  #define model architecture:\n",
    "    SexModel <- keras_model_sequential()%>%\n",
    "    layer_conv_2d(filters=CNN, kernel_size=c(3,3), activation = 'relu',\n",
    "                          input_shape=c(256,144,3), data_format=\"channels_last\") %>%\n",
    "    layer_max_pooling_2d(pool_size = c(3,3)) %>%\n",
    "    layer_flatten() %>%\n",
    "    layer_dense(units=Dense_1, activation = 'relu')%>%\n",
    "    layer_dropout(rate=Drop_1) %>%\n",
    "    layer_dense(units=Dense_2, activation='relu')%>%\n",
    "    layer_dropout(rate=Drop_2)%>%\n",
    "    layer_dense(units=1, activation='sigmoid') %>%\n",
    "    compile(\n",
    "      optimizer=optimizer_adam(lr=1e-05),\n",
    "      loss='binary_crossentropy',\n",
    "      metrics=c('accuracy')\n",
    "    )\n",
    "    \n",
    "  #train model with early stopping algorithm:\n",
    "  Best.Loss <- Inf #pre allocate\n",
    "  \n",
    "  for(i in 1:150){\n",
    "    print(paste(\"epoch:\",i))\n",
    "    Fit.History <- SexModel %>% fit(TrainArray,TrainVect,epochs= 1,\n",
    "                                    validation_data=list(ValArray,ValVect),\n",
    "                                    shuffle=TRUE, bacth_size = 16)\n",
    "    Val.Loss <- Fit.History[[2]]$val_loss\n",
    "    \n",
    "    #if loss didnt drop, stop training\n",
    "    if(Val.Loss<Best.Loss){\n",
    "      print(\"New lowest val loss\")\n",
    "      Best.Loss<- Val.Loss\n",
    "      counter <- 0\n",
    "      BestModel <- Fit.History\n",
    "      BestEpoch <- i\n",
    "        \n",
    "      SexModel %>% save_model_hdf5(paste(\"../Models/Sex_M\",ModelName,\"_E\",i, sep=\"\"))# saves model\n",
    "      \n",
    "    }else{\n",
    "      counter <- counter +1\n",
    "      #If val loss did not improve for 10 epochs in a row, training will stop\n",
    "        \n",
    "      if(counter >10){ \n",
    "        print(\"Val.Loss increased did not drop lower than best for 10 epochs\")\n",
    "        print(paste(\"Best Model is Epoch\", BestEpoch))\n",
    "        #make a copy of best model:\n",
    "        system(paste(\"cp ../Models/Sex_M\",ModelName,\"_E\",BestEpoch,\" ../Models/BestModelSex-\",ModelName, sep=\"\"))\n",
    "        #remove all the other models for each epoch5\n",
    "        system(paste(\"rm ../Models/Sex_M\",ModelName,\"*\", sep=\"\"))\n",
    "        break #stops looping\n",
    "      }\n",
    "    }\n",
    "  }\n",
    "  \n",
    "  return(BestModel)\n",
    "  \n",
    "  \n",
    "}\n"
   ]
  },
  {
   "cell_type": "markdown",
   "metadata": {},
   "source": [
    "## Defining Hyperparamters"
   ]
  },
  {
   "cell_type": "markdown",
   "metadata": {},
   "source": [
    "Hyperparamters were defined in a list, then each unique combination will be computed into a dataframe"
   ]
  },
  {
   "cell_type": "code",
   "execution_count": 3,
   "metadata": {},
   "outputs": [
    {
     "data": {
      "text/html": [
       "<table class=\"dataframe\">\n",
       "<caption>A data.frame: 6 × 9</caption>\n",
       "<thead>\n",
       "\t<tr><th></th><th scope=col>CNN</th><th scope=col>Drop_1</th><th scope=col>Drop_2</th><th scope=col>Dense_1</th><th scope=col>Dense_2</th><th scope=col>Acc</th><th scope=col>Loss</th><th scope=col>ValLoss</th><th scope=col>ValAcc</th></tr>\n",
       "\t<tr><th></th><th scope=col>&lt;dbl&gt;</th><th scope=col>&lt;dbl&gt;</th><th scope=col>&lt;dbl&gt;</th><th scope=col>&lt;dbl&gt;</th><th scope=col>&lt;dbl&gt;</th><th scope=col>&lt;lgl&gt;</th><th scope=col>&lt;lgl&gt;</th><th scope=col>&lt;lgl&gt;</th><th scope=col>&lt;lgl&gt;</th></tr>\n",
       "</thead>\n",
       "<tbody>\n",
       "\t<tr><th scope=row>1</th><td> 32</td><td>0.0</td><td>0.1</td><td>32</td><td>32</td><td>NA</td><td>NA</td><td>NA</td><td>NA</td></tr>\n",
       "\t<tr><th scope=row>2</th><td> 64</td><td>0.0</td><td>0.1</td><td>32</td><td>32</td><td>NA</td><td>NA</td><td>NA</td><td>NA</td></tr>\n",
       "\t<tr><th scope=row>3</th><td>128</td><td>0.0</td><td>0.1</td><td>32</td><td>32</td><td>NA</td><td>NA</td><td>NA</td><td>NA</td></tr>\n",
       "\t<tr><th scope=row>4</th><td> 32</td><td>0.1</td><td>0.1</td><td>32</td><td>32</td><td>NA</td><td>NA</td><td>NA</td><td>NA</td></tr>\n",
       "\t<tr><th scope=row>5</th><td> 64</td><td>0.1</td><td>0.1</td><td>32</td><td>32</td><td>NA</td><td>NA</td><td>NA</td><td>NA</td></tr>\n",
       "\t<tr><th scope=row>6</th><td>128</td><td>0.1</td><td>0.1</td><td>32</td><td>32</td><td>NA</td><td>NA</td><td>NA</td><td>NA</td></tr>\n",
       "</tbody>\n",
       "</table>\n"
      ],
      "text/latex": [
       "A data.frame: 6 × 9\n",
       "\\begin{tabular}{r|lllllllll}\n",
       "  & CNN & Drop\\_1 & Drop\\_2 & Dense\\_1 & Dense\\_2 & Acc & Loss & ValLoss & ValAcc\\\\\n",
       "  & <dbl> & <dbl> & <dbl> & <dbl> & <dbl> & <lgl> & <lgl> & <lgl> & <lgl>\\\\\n",
       "\\hline\n",
       "\t1 &  32 & 0.0 & 0.1 & 32 & 32 & NA & NA & NA & NA\\\\\n",
       "\t2 &  64 & 0.0 & 0.1 & 32 & 32 & NA & NA & NA & NA\\\\\n",
       "\t3 & 128 & 0.0 & 0.1 & 32 & 32 & NA & NA & NA & NA\\\\\n",
       "\t4 &  32 & 0.1 & 0.1 & 32 & 32 & NA & NA & NA & NA\\\\\n",
       "\t5 &  64 & 0.1 & 0.1 & 32 & 32 & NA & NA & NA & NA\\\\\n",
       "\t6 & 128 & 0.1 & 0.1 & 32 & 32 & NA & NA & NA & NA\\\\\n",
       "\\end{tabular}\n"
      ],
      "text/markdown": [
       "\n",
       "A data.frame: 6 × 9\n",
       "\n",
       "| <!--/--> | CNN &lt;dbl&gt; | Drop_1 &lt;dbl&gt; | Drop_2 &lt;dbl&gt; | Dense_1 &lt;dbl&gt; | Dense_2 &lt;dbl&gt; | Acc &lt;lgl&gt; | Loss &lt;lgl&gt; | ValLoss &lt;lgl&gt; | ValAcc &lt;lgl&gt; |\n",
       "|---|---|---|---|---|---|---|---|---|---|\n",
       "| 1 |  32 | 0.0 | 0.1 | 32 | 32 | NA | NA | NA | NA |\n",
       "| 2 |  64 | 0.0 | 0.1 | 32 | 32 | NA | NA | NA | NA |\n",
       "| 3 | 128 | 0.0 | 0.1 | 32 | 32 | NA | NA | NA | NA |\n",
       "| 4 |  32 | 0.1 | 0.1 | 32 | 32 | NA | NA | NA | NA |\n",
       "| 5 |  64 | 0.1 | 0.1 | 32 | 32 | NA | NA | NA | NA |\n",
       "| 6 | 128 | 0.1 | 0.1 | 32 | 32 | NA | NA | NA | NA |\n",
       "\n"
      ],
      "text/plain": [
       "  CNN Drop_1 Drop_2 Dense_1 Dense_2 Acc Loss ValLoss ValAcc\n",
       "1  32 0.0    0.1    32      32      NA  NA   NA      NA    \n",
       "2  64 0.0    0.1    32      32      NA  NA   NA      NA    \n",
       "3 128 0.0    0.1    32      32      NA  NA   NA      NA    \n",
       "4  32 0.1    0.1    32      32      NA  NA   NA      NA    \n",
       "5  64 0.1    0.1    32      32      NA  NA   NA      NA    \n",
       "6 128 0.1    0.1    32      32      NA  NA   NA      NA    "
      ]
     },
     "metadata": {},
     "output_type": "display_data"
    }
   ],
   "source": [
    "## Listing possible combinations\n",
    "Params = list(CNN = c(32,64,128),\n",
    "                       Drop_1 = c(0,0.1,0.2), Drop_2 = c(0.1,0.2,0.3),\n",
    "                       Dense_1 = c(32,64,128),Dense_2=c(32,64,128))\n",
    "\n",
    "ParamComb <- expand.grid(Params)\n",
    "ParamComb$Acc <- NA\n",
    "ParamComb$Loss <- NA\n",
    "ParamComb$ValLoss <- NA\n",
    "ParamComb$ValAcc <- NA\n",
    "head(ParamComb)"
   ]
  },
  {
   "cell_type": "markdown",
   "metadata": {},
   "source": [
    "## Model Training"
   ]
  },
  {
   "cell_type": "markdown",
   "metadata": {},
   "source": [
    "The script then loops through each possible hyperparameter combination to determine the model with the lowest validation loss, saving the results after each model was attempted."
   ]
  },
  {
   "cell_type": "code",
   "execution_count": null,
   "metadata": {},
   "outputs": [],
   "source": [
    "for (j in 1:nrow(ParamComb)){\n",
    "print(ParamComb[j,])\n",
    "History <- TrainSimple(ModelName = j,CNN = ParamComb$CNN[j], Drop_1= ParamComb$Drop_1[j],Drop_2 = ParamComb$Drop_2[j],\n",
    "                  Dense_1=ParamComb$Dense_1[j],Dense_2 = ParamComb$Dense_2[j])\n",
    "ParamComb[j,\"Acc\"] <- History[[2]][[2]]\n",
    "ParamComb[j,\"Loss\"] <-  History[[2]][[1]]\n",
    "ParamComb[j,\"ValLoss\"] <- History[[2]][[3]]\n",
    "ParamComb[j,\"ValAcc\"] <- History[[2]][[4]]\n",
    "write.csv(ParamComb, file=\"../Data/SimpleCNN.csv\")\n",
    "}\n"
   ]
  },
  {
   "cell_type": "markdown",
   "metadata": {},
   "source": [
    "The best model obtained was combination 158, with the following hyperparamters:"
   ]
  },
  {
   "cell_type": "code",
   "execution_count": 7,
   "metadata": {},
   "outputs": [
    {
     "name": "stdout",
     "output_type": "stream",
     "text": [
      "    X.4 X.3 X.2 X.1   X CNN Drop_1 Drop_2 Dense_1 Dense_2       Acc      Loss\n",
      "158 158 158 158 158 158  64    0.1    0.3     128      64 0.9196666 0.2562514\n",
      "      ValLoss   ValAcc\n",
      "158 0.5525219 0.772296\n"
     ]
    }
   ],
   "source": [
    "SimpleCNN <- read.csv(\"../../MaskPipeline/Data/SimpleCNN.csv\")\n",
    "print(SimpleCNN[158,])"
   ]
  }
 ],
 "metadata": {
  "kernelspec": {
   "display_name": "R",
   "language": "R",
   "name": "ir"
  },
  "language_info": {
   "codemirror_mode": "r",
   "file_extension": ".r",
   "mimetype": "text/x-r-source",
   "name": "R",
   "pygments_lexer": "r",
   "version": "4.1.0"
  }
 },
 "nbformat": 4,
 "nbformat_minor": 4
}
